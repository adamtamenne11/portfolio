{
 "cells": [
  {
   "cell_type": "code",
   "execution_count": null,
   "id": "2005589b-221e-44c0-a185-c2369a7077c6",
   "metadata": {},
   "outputs": [],
   "source": [
    "import psycopg2 as ps\n",
    "import pandas as pd"
   ]
  },
  {
   "cell_type": "code",
   "execution_count": null,
   "id": "0badc934-6aac-411f-ac5f-68fae01aa982",
   "metadata": {},
   "outputs": [],
   "source": [
    "df = pd.read_csv('youtube_extract_1.csv', index_col=0) \n",
    "df.head()"
   ]
  },
  {
   "cell_type": "code",
   "execution_count": null,
   "id": "87dcca29-9221-42dd-938d-f1d0efe75f4a",
   "metadata": {},
   "outputs": [],
   "source": [
    "def connect_to_db(host_name, dbname, port, username, password):\n",
    "    try:\n",
    "        conn = ps.connect(host=host_name, database=dbname, user=username, password=password, port=port)\n",
    "\n",
    "    except ps.OperationalError as e:\n",
    "        raise e\n",
    "    else:\n",
    "        print('Connected!')\n",
    "        return conn"
   ]
  },
  {
   "cell_type": "code",
   "execution_count": null,
   "id": "61e4aa92-c726-47ec-bc15-81442a03b71b",
   "metadata": {},
   "outputs": [],
   "source": [
    "host_name = 'version2.cbseqyqyanpf.us-east-2.rds.amazonaws.com'\n",
    "dbname = 'v2'\n",
    "port = '5432'\n",
    "username = 'postgres'\n",
    "password = 'Moemoney1!'\n",
    "conn = None\n",
    "\n",
    "conn = connect_to_db(host_name, dbname, port, username, password)"
   ]
  },
  {
   "cell_type": "code",
   "execution_count": null,
   "id": "5c2f91f1-49d0-4a7b-a44a-ec66ac1ad58e",
   "metadata": {},
   "outputs": [],
   "source": [
    "# updating the database\n",
    "\n",
    "# checks to see if vid exists\n",
    "# if does exist update row. if not, takes vid id and data then stores in temp df which will then allow me to write a new function to insert new vid ID's\n",
    "def create_table(curr):\n",
    "    create_table_command = (\"\"\"CREATE TABLE IF NOT EXISTS videos (\n",
    "                    video_id VARCHAR(255) PRIMARY KEY,\n",
    "                    video_title TEXT NOT NULL,\n",
    "                    upload_date DATE NOT NULL DEFAULT CURRENT_DATE,\n",
    "                    view_count INTEGER NOT NULL,\n",
    "                    like_count INTEGER NOT NULL,\n",
    "                    dislike_count INTEGER NOT NULL,\n",
    "                    comment_count INTEGER NOT NULL\n",
    "            )\"\"\")\n",
    "\n",
    "    curr.execute(create_table_command)\n",
    "\n",
    "def insert_into_table(curr, video_id, video_title, upload_date, view_count, like_count, dislike_count, comment_count):\n",
    "    insert_into_videos = (\"\"\"INSERT INTO videos (video_id, video_title, upload_date,\n",
    "                        view_count, like_count, dislike_count,comment_count)\n",
    "    VALUES(%s,%s,%s,%s,%s,%s,%s);\"\"\")\n",
    "    row_to_insert = (video_id, video_title, upload_date, view_count, like_count, dislike_count, comment_count)\n",
    "    curr.execute(insert_into_videos, row_to_insert)\n",
    "\n",
    "\n",
    "def update_row(curr, video_id, video_title, view_count, like_count, dislike_count, comment_count):\n",
    "    query = (\"\"\"UPDATE videos\n",
    "            SET video_title = %s,\n",
    "                view_count = %s,\n",
    "                like_count = %s,\n",
    "                dislike_count = %s,\n",
    "                comment_count = %s\n",
    "            WHERE video_id = %s;\"\"\")\n",
    "    vars_to_update = (video_id, video_title, view_count, like_count, dislike_count, comment_count, video_id)\n",
    "    curr.execute(query, vars_to_update)\n",
    "\n",
    "# checks to see if vid exists\n",
    "# if does exist update row. if not, takes vid id and data then stores in temp df which will then allow me to write a new function to insert new vid ID's\n",
    "def update_db(curr, df):\n",
    "    tmp_df = pd.DataFrame(columns=['video_id', 'video_title', 'upload_date', 'view_count',\n",
    "                                   'like_count', 'dislike_count', 'comment_count'])\n",
    "    for i, row in df.iterrows():\n",
    "        video_id = row.get('video_id')\n",
    "        if video_id is not None and check_if_video_exists(curr, video_id):\n",
    "            # Using .get() method to safely access dictionary values; it returns None if the key doesn't exist\n",
    "            update_row(curr,\n",
    "                       video_id,\n",
    "                       row.get('video_title'),\n",
    "                       row.get('view_count'),\n",
    "                       row.get('like_count'),\n",
    "                       row.get('dislike_count'),\n",
    "                       row.get('comment_count'))\n",
    "        else:\n",
    "            # The video doesn't exist so we will add it to a temp df and append it using append_from_df_to_db.\n",
    "            # Ensure only rows with a video_id are appended to avoid issues with missing primary key.\n",
    "            if video_id is not None:\n",
    "                tmp_df = tmp_df.append(row, ignore_index=True)\n",
    "\n",
    "    return tmp_df\n",
    "\n",
    "\n",
    "def check_if_video_exists(curr, video_id): \n",
    "    query = (\"\"\"SELECT video_id FROM VIDEOS WHERE video_id = %s\"\"\")\n",
    "\n",
    "    curr.execute(query, (video_id,))\n",
    "    return curr.fetchone() is not None\n",
    "\n",
    "\n",
    "\n",
    "def truncate_table(curr):\n",
    "    truncate_table = (\"\"\"TRUNCATE TABLE videos\"\"\")\n",
    "\n",
    "    curr.execute(truncate_table)\n",
    "\n",
    "\n",
    "def append_from_df_to_db(curr,df):\n",
    "    for i, row in df.iterrows():\n",
    "        insert_into_table(curr, row['video_id'], row['video_title'], row['upload_date'], row['view_count']\n",
    "                          , row['like_count'], row['dislike_count'], row['comment_count'])"
   ]
  },
  {
   "cell_type": "code",
   "execution_count": null,
   "id": "506cca51-1485-4853-bc7e-f0822183841b",
   "metadata": {},
   "outputs": [],
   "source": [
    "# cursor method allows sql commands \n",
    "curr = conn.cursor()"
   ]
  },
  {
   "cell_type": "code",
   "execution_count": null,
   "id": "4a6d3008-4ed3-419e-be9d-b8052d5346d9",
   "metadata": {
    "scrolled": true
   },
   "outputs": [],
   "source": [
    "new_vid_df = update_db(curr,df)\n",
    "conn.commit()"
   ]
  },
  {
   "cell_type": "code",
   "execution_count": null,
   "id": "46d818fb-4de0-4f3c-9de4-ad038932087d",
   "metadata": {},
   "outputs": [],
   "source": [
    "append_from_df_to_db(curr, new_vid_df)\n",
    "conn.commit()"
   ]
  },
  {
   "cell_type": "code",
   "execution_count": null,
   "id": "86849d63-c6f6-4c5b-8029-ad11b8c9892d",
   "metadata": {},
   "outputs": [],
   "source": [
    "curr.execute(\"SELECT * FROM VIDEOS\")\n",
    "print(curr.fetchall())"
   ]
  },
  {
   "cell_type": "code",
   "execution_count": null,
   "id": "ad9c4fec-9d21-4ca3-bb1a-cf540825061e",
   "metadata": {},
   "outputs": [],
   "source": [
    "print(df.head())"
   ]
  },
  {
   "cell_type": "code",
   "execution_count": null,
   "id": "29f30eb2-897c-46a6-bad2-b9c7e4b49df1",
   "metadata": {},
   "outputs": [],
   "source": [
    "print(df.columns)"
   ]
  },
  {
   "cell_type": "code",
   "execution_count": null,
   "id": "f5c8ecb5-21ef-41cd-a685-a47d8855b782",
   "metadata": {},
   "outputs": [],
   "source": [
    "'video_id' in df.columns"
   ]
  }
 ],
 "metadata": {
  "kernelspec": {
   "display_name": "Python 3 (ipykernel)",
   "language": "python",
   "name": "python3"
  },
  "language_info": {
   "codemirror_mode": {
    "name": "ipython",
    "version": 3
   },
   "file_extension": ".py",
   "mimetype": "text/x-python",
   "name": "python",
   "nbconvert_exporter": "python",
   "pygments_lexer": "ipython3",
   "version": "3.12.2"
  }
 },
 "nbformat": 4,
 "nbformat_minor": 5
}
